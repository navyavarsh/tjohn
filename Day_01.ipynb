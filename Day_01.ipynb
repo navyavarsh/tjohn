{
  "nbformat": 4,
  "nbformat_minor": 0,
  "metadata": {
    "kernelspec": {
      "display_name": "Python 3",
      "language": "python",
      "name": "python3"
    },
    "language_info": {
      "codemirror_mode": {
        "name": "ipython",
        "version": 3
      },
      "file_extension": ".py",
      "mimetype": "text/x-python",
      "name": "python",
      "nbconvert_exporter": "python",
      "pygments_lexer": "ipython3",
      "version": "3.8.5"
    },
    "colab": {
      "name": "Day_01.ipynb",
      "provenance": [],
      "include_colab_link": true
    }
  },
  "cells": [
    {
      "cell_type": "markdown",
      "metadata": {
        "id": "view-in-github",
        "colab_type": "text"
      },
      "source": [
        "<a href=\"https://colab.research.google.com/github/navyavarsh/tjohn/blob/main/Day_01.ipynb\" target=\"_parent\"><img src=\"https://colab.research.google.com/assets/colab-badge.svg\" alt=\"Open In Colab\"/></a>"
      ]
    },
    {
      "cell_type": "markdown",
      "metadata": {
        "id": "HxX2rUjWklgX"
      },
      "source": [
        "# Question 1\n",
        "\n",
        "### **Question:**\n",
        "\n",
        "> **_Write a program which will find all such numbers which are divisible by 7 but are not a multiple of 5,\n",
        "> between 2000 and 3200 (both included).The numbers obtained should be printed in a comma-separated sequence on a single line._**\n",
        "\n",
        "---\n",
        "\n",
        "### Hints:\n",
        "\n",
        "> **_Consider use range(#begin, #end) method._**\n",
        "\n",
        "---\n",
        "\n",
        "\n",
        "\n",
        "**Solutions:**\n",
        "\n",
        "- **Using for loops**"
      ]
    },
    {
      "cell_type": "code",
      "metadata": {
        "id": "0C_n7_NZklgk"
      },
      "source": [
        ""
      ],
      "execution_count": null,
      "outputs": []
    },
    {
      "cell_type": "markdown",
      "metadata": {
        "id": "kX3Pyjf_klgm"
      },
      "source": [
        "---\n",
        "\n",
        "- **Using generators and list comprehension**"
      ]
    },
    {
      "cell_type": "code",
      "metadata": {
        "id": "rz0geLycklgo"
      },
      "source": [
        ""
      ],
      "execution_count": null,
      "outputs": []
    },
    {
      "cell_type": "markdown",
      "metadata": {
        "id": "x1GUtYzCklgo"
      },
      "source": [
        "# Question 2\n",
        "\n",
        "### **Question:**\n",
        "\n",
        "> **_Write a program which can compute the factorial of a given numbers.The results should be printed in a comma-separated sequence on a single line.Suppose the following input is supplied to the program: 8\n",
        "> Then, the output should be:40320_**\n",
        "\n",
        "---\n",
        "\n",
        "### Hints:\n",
        "\n",
        "> **_In case of input data being supplied to the question, it should be assumed to be a console input._**\n",
        "\n",
        "---\n",
        "\n",
        "\n",
        "\n",
        "**Solutions:**\n"
      ]
    },
    {
      "cell_type": "markdown",
      "metadata": {
        "id": "ZhUIjNguklgr"
      },
      "source": [
        "- **Using While Loop**"
      ]
    },
    {
      "cell_type": "code",
      "metadata": {
        "id": "ahefYT2eklgs"
      },
      "source": [
        ""
      ],
      "execution_count": null,
      "outputs": []
    },
    {
      "cell_type": "markdown",
      "metadata": {
        "id": "wiyZEqTtklgt"
      },
      "source": [
        "- **Using For Loop**"
      ]
    },
    {
      "cell_type": "code",
      "metadata": {
        "id": "P2gWw9ztklgv"
      },
      "source": [
        ""
      ],
      "execution_count": null,
      "outputs": []
    },
    {
      "cell_type": "markdown",
      "metadata": {
        "id": "oBcH6eRbklgw"
      },
      "source": [
        "- **Using Lambda Function**"
      ]
    },
    {
      "cell_type": "code",
      "metadata": {
        "id": "Li5GqfYVklgy"
      },
      "source": [
        ""
      ],
      "execution_count": null,
      "outputs": []
    },
    {
      "cell_type": "markdown",
      "metadata": {
        "id": "DSO6ocOMklgz"
      },
      "source": [
        "# Question 3\n",
        "\n",
        "### **Question:**\n",
        "\n",
        "> **_With a given integral number n, write a program to generate a dictionary that contains (i, i x i) such that is an integral number between 1 and n (both included). and then the program should print the dictionary.Suppose the following input is supplied to the program: 8_**\n",
        "\n",
        "> **_Then, the output should be:_**\n",
        "\n",
        "\n",
        "{1: 1, 2: 4, 3: 9, 4: 16, 5: 25, 6: 36, 7: 49, 8: 64}\n",
        "\n",
        "\n",
        "---\n",
        "\n",
        "### Hints:\n",
        "\n",
        "> **_In case of input data being supplied to the question, it should be assumed to be a console input.Consider use dict()_**\n",
        "\n"
      ]
    },
    {
      "cell_type": "markdown",
      "metadata": {
        "id": "Kob4W6cGklg1"
      },
      "source": [
        "**Solutions:**"
      ]
    },
    {
      "cell_type": "markdown",
      "metadata": {
        "id": "QSClQ7xeklg2"
      },
      "source": [
        "- **Using For loop**"
      ]
    },
    {
      "cell_type": "code",
      "metadata": {
        "id": "AMK42I_uklg3"
      },
      "source": [
        ""
      ],
      "execution_count": null,
      "outputs": []
    },
    {
      "cell_type": "code",
      "metadata": {
        "id": "-lfaypzrklg4"
      },
      "source": [
        ""
      ],
      "execution_count": null,
      "outputs": []
    },
    {
      "cell_type": "markdown",
      "metadata": {
        "id": "hMwyMDuGklg4"
      },
      "source": [
        "- **Using dictionary comprehension**"
      ]
    },
    {
      "cell_type": "code",
      "metadata": {
        "id": "y4A4Duv3klg5"
      },
      "source": [
        ""
      ],
      "execution_count": null,
      "outputs": []
    },
    {
      "cell_type": "code",
      "metadata": {
        "id": "1ohb6vQgklg6"
      },
      "source": [
        ""
      ],
      "execution_count": null,
      "outputs": []
    }
  ]
}